{
  "cells": [
    {
      "cell_type": "markdown",
      "metadata": {},
      "source": [
        "# Python Orientation"
      ]
    },
    {
      "cell_type": "markdown",
      "metadata": {},
      "source": [
        "## Introduction"
      ]
    },
    {
      "cell_type": "markdown",
      "metadata": {},
      "source": [
        "Welcome to the L2D Python Fundamentals course. Starting out in coding can be quite daunting for newcomers, as they don't know where to start. This begins even before you start to code, in the setup, terminology, and myriad of tools out there. and usually its not about the code, but the setup and surrounding terminologly. With this pre-course resource we hope to provide some details about Python and its related programmes, to help focus your understanding and prepare you for the non-coding aspects of Python."
      ]
    },
    {
      "cell_type": "markdown",
      "metadata": {},
      "source": [
        "You don't need to know everything here off by heart or read it all in one go. Although, it is our hope that this should be a good point of reference for many of the surrounding questions in Python."
      ]
    }
  ],
  "metadata": {
    "language_info": {
      "name": "python"
    }
  },
  "nbformat": 4,
  "nbformat_minor": 2
}